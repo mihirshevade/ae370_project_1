{
 "cells": [
  {
   "cell_type": "markdown",
   "id": "fe69b753",
   "metadata": {},
   "source": [
    "# 🚀 Rocket Simulator Overview\n",
    "\n",
    "This notebook runs a 2D vertical trajectory simulator for a model rocket using real thrust curve data and RK4 numerical integration. The user can interactively configure parameters and visualize the rocket's performance metrics over time.\n",
    "\n",
    "### 💡 How It Works\n",
    "\n",
    "- **User Interface:** \n",
    "  `interface.py` defines a Jupyter-based UI using `ipywidgets`, allowing the user to:\n",
    "  - Select a motor from pre-loaded thrust curve `.csv` files\n",
    "  - Input aerodynamic and mass parameters (diameter, Cd, dry mass, propellant mass)\n",
    "  - Add wind if desired\n",
    "\n",
    "- **Simulation Engine:** \n",
    "  - `run_simulation()` uses a 4th-order Runge-Kutta (RK4) method to integrate the rocket’s motion based on the selected thrust curve.\n",
    "  - The state includes position, velocity, and mass, and updates with thrust, drag, and gravity.\n",
    "  - Outputs include altitude, velocity, Mach number, drag force, dynamic pressure, and more.\n",
    "\n",
    "- **Visualization:**\n",
    "  - Results are plotted using Matplotlib, including:\n",
    "    - Altitude, velocity, drag, and Mach number vs. time\n",
    "    - Energy plots (KE, PE, total)\n",
    "    - Stagnation temperature and dynamic pressure\n",
    "\n",
    "### 📁 File Structure\n",
    "\n",
    "- `main.ipynb`: Entry point — launches the simulator UI\n",
    "- `interface.py`: Widget-based user interface and simulation launch logic\n",
    "- `dynamics.py`: Defines the equations of motion and RK4 integrator\n",
    "- `simulation.py`: Main simulation loop and data logging\n",
    "- `plotter.py`: Visualization of results\n",
    "- `thrust.py`: Parses CSVs and creates interpolated thrust functions\n",
    "- `motors/`: Directory containing `.csv` thrust curves\n",
    "\n",
    "---\n",
    "\n",
    "### ▶️ To Run the Simulator\n",
    "\n",
    "Simply run the cell below to launch the interface.\n"
   ]
  },
  {
   "cell_type": "code",
   "execution_count": 1,
   "id": "ae4d7ea8",
   "metadata": {},
   "outputs": [
    {
     "name": "stdout",
     "output_type": "stream",
     "text": [
      "The EOP file 'finals2000A.all' in /Users/mihirshevade/src/iers/ is already the latest.\n",
      "The Leap Second file 'Leap_Second.dat' in /Users/mihirshevade/src/iers/ is already the latest.\n"
     ]
    },
    {
     "data": {
      "application/vnd.jupyter.widget-view+json": {
       "model_id": "0f59648b6651437d8cb2e533061414fc",
       "version_major": 2,
       "version_minor": 0
      },
      "text/plain": [
       "VBox(children=(HBox(children=(Dropdown(description='Motor:', options=('L1000', 'N2540', 'K270', 'O5500', 'N100…"
      ]
     },
     "metadata": {},
     "output_type": "display_data"
    }
   ],
   "source": [
    "from interface import run_interface\n",
    "\n",
    "if __name__ == \"__main__\":\n",
    "    run_interface()"
   ]
  }
 ],
 "metadata": {
  "kernelspec": {
   "display_name": "Python 3",
   "language": "python",
   "name": "python3"
  },
  "language_info": {
   "codemirror_mode": {
    "name": "ipython",
    "version": 3
   },
   "file_extension": ".py",
   "mimetype": "text/x-python",
   "name": "python",
   "nbconvert_exporter": "python",
   "pygments_lexer": "ipython3",
   "version": "3.12.7"
  }
 },
 "nbformat": 4,
 "nbformat_minor": 5
}
